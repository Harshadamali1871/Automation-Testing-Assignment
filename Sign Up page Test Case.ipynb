{
 "cells": [
  {
   "cell_type": "code",
   "execution_count": null,
   "id": "22bdadfe",
   "metadata": {},
   "outputs": [],
   "source": [
    "from selenium import webdriver\n",
    "from selenium.webdriver.common.by import By\n",
    "from selenium.webdriver.chrome.service import Service\n",
    "\n",
    "service = Service(r\"C:\\Users\\LENOVO\\Downloads\\chromedriver.exe\")\n",
    "driver = webdriver.Chrome(service=service)\n",
    "driver.get(\"https://app-staging.nokodr.com/super/apps/auth/v1/index.html#/login\")\n",
    "driver.find_element(By.XPATH, \"//button[text()='Email or Phone']\").click()\n",
    "email_phone_input = driver.find_element(By.XPATH, \"//input[@type='text']\")\n",
    "email_phone_input.send_keys(\"testuser@example.com\")\n",
    "checkbox = driver.find_element(By.XPATH, \"//input[@type='checkbox']\")\n",
    "checkbox.click()\n",
    "driver.find_element(By.XPATH, \"//button[text()='Proceed']\").click()\n",
    "try:\n",
    "    success_message = driver.find_element(By.CLASS_NAME, \"success\").text\n",
    "    print(\"Sign-Up Success:\", success_message)\n",
    "except:\n",
    "    error_message = driver.find_element(By.CLASS_NAME, \"error\").text\n",
    "    print(\"Sign-Up Error:\", error_message)\n",
    "driver.quit()"
   ]
  }
 ],
 "metadata": {
  "kernelspec": {
   "display_name": "Python 3 (ipykernel)",
   "language": "python",
   "name": "python3"
  },
  "language_info": {
   "codemirror_mode": {
    "name": "ipython",
    "version": 3
   },
   "file_extension": ".py",
   "mimetype": "text/x-python",
   "name": "python",
   "nbconvert_exporter": "python",
   "pygments_lexer": "ipython3",
   "version": "3.11.4"
  }
 },
 "nbformat": 4,
 "nbformat_minor": 5
}
